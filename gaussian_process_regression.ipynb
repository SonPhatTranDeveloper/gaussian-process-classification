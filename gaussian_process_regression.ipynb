{
 "cells": [
  {
   "cell_type": "markdown",
   "source": [
    "# Gaussian Process for Binary classification (with Laplace Approximation)"
   ],
   "metadata": {
    "collapsed": false
   },
   "id": "45953ffc8bf6ffdf"
  },
  {
   "cell_type": "code",
   "execution_count": 20,
   "outputs": [],
   "source": [
    "import numpy as np\n",
    "import matplotlib.pyplot as plt\n",
    "from sklearn.metrics.pairwise import rbf_kernel"
   ],
   "metadata": {
    "collapsed": false,
    "ExecuteTime": {
     "end_time": "2024-01-09T09:17:17.523675Z",
     "start_time": "2024-01-09T09:16:58.966646Z"
    }
   },
   "id": "63ad20f354421cc9"
  },
  {
   "cell_type": "markdown",
   "source": [
    "## Generate synthetic data"
   ],
   "metadata": {
    "collapsed": false
   },
   "id": "8a11bc53ae2ae21a"
  },
  {
   "cell_type": "code",
   "execution_count": 9,
   "outputs": [],
   "source": [
    "# Define the number of each mixture\n",
    "number_class_1 = 50\n",
    "number_class_2 = 50\n",
    "\n",
    "# Define the mean of each mixture\n",
    "mean_1 = np.array([0, 0])\n",
    "mean_2 = np.array([5, 0])\n",
    "\n",
    "# Define the covariance of each mixture\n",
    "sigma = 0.8\n",
    "cov_1 = np.eye(2) * sigma\n",
    "cov_2 = np.eye(2) * sigma\n",
    "\n",
    "# Generate clusters\n",
    "cluster_1 = np.random.multivariate_normal(mean=mean_1, cov=cov_1, size=number_class_1)\n",
    "cluster_2 = np.random.multivariate_normal(mean=mean_2, cov=cov_2, size=number_class_2)"
   ],
   "metadata": {
    "collapsed": false,
    "ExecuteTime": {
     "end_time": "2024-01-09T08:18:18.787274Z",
     "start_time": "2024-01-09T08:18:18.785253Z"
    }
   },
   "id": "affdb27042c0227b"
  },
  {
   "cell_type": "code",
   "execution_count": 12,
   "outputs": [
    {
     "data": {
      "text/plain": "<Figure size 640x480 with 1 Axes>",
      "image/png": "[encoded data removed]"
     },
     "metadata": {},
     "output_type": "display_data"
    }
   ],
   "source": [
    "# Plot data\n",
    "plt.scatter(cluster_1[:, 0], cluster_1[:, 1], color='green')\n",
    "plt.scatter(cluster_2[:, 0], cluster_2[:, 1], color='blue')\n",
    "plt.xlabel('x1')\n",
    "plt.ylabel('x2')\n",
    "plt.title('Gaussian Mixtures')\n",
    "plt.show()"
   ],
   "metadata": {
    "collapsed": false,
    "ExecuteTime": {
     "end_time": "2024-01-09T08:20:42.574003Z",
     "start_time": "2024-01-09T08:20:42.497202Z"
    }
   },
   "id": "da49f8133ebcc976"
  },
  {
   "cell_type": "code",
   "execution_count": 17,
   "outputs": [],
   "source": [
    "# Create a dataset\n",
    "X_1 = np.hstack((np.ones(cluster_1.shape[0]).reshape(-1, 1), cluster_1))\n",
    "X_2 = np.hstack((np.ones(cluster_2.shape[0]).reshape(-1, 1), cluster_2))\n",
    "\n",
    "# Merge the train features\n",
    "X = np.vstack((X_1, X_2))\n",
    "t = np.array([0] * number_class_1 + [1] * number_class_2)"
   ],
   "metadata": {
    "collapsed": false,
    "ExecuteTime": {
     "end_time": "2024-01-09T09:16:33.362806Z",
     "start_time": "2024-01-09T09:16:33.359275Z"
    }
   },
   "id": "4b66b5683e0dbba8"
  },
  {
   "cell_type": "markdown",
   "source": [
    "## Implementing Gaussian Process for classification "
   ],
   "metadata": {
    "collapsed": false
   },
   "id": "e7eebd2a94b9acbc"
  },
  {
   "cell_type": "code",
   "execution_count": 51,
   "outputs": [],
   "source": [
    "def sigmoid(a):\n",
    "    \"\"\"\n",
    "    Define sigmoid function\n",
    "    :param a: input to sigmoid function\n",
    "    :return: value of sigmoid function\n",
    "    \"\"\"\n",
    "    return 1 / (1 + np.exp(-a))\n",
    "\n",
    "def find_posterior_mean(X, t, nu, gamma, learning_rate, epochs):\n",
    "    \"\"\"\n",
    "    Find the mode of the distribution p(a_N | t_N)\n",
    "    :param X: train features\n",
    "    :param t: train labels\n",
    "    :param nu: added term to C, the covariance matrix\n",
    "    :param gamma: the parameter of RBF kernel function\n",
    "    :param learning_rate: learning rate of Newton's method\n",
    "    :param epochs: the epochs to update the mode in Newton's method\n",
    "    :return: the mode of the posterior distribution\n",
    "    \"\"\"\n",
    "    # Get the dimension\n",
    "    N = X.shape[0]\n",
    "    \n",
    "    # Calculate the covariance matrix C_N\n",
    "    C_N = rbf_kernel(X, gamma=gamma) + nu * np.eye(N)\n",
    "    \n",
    "    # Find the eigenvalues and eigenvectors of C_N\n",
    "    eigenvalues, _ = np.linalg.eig(C_N)\n",
    "    \n",
    "    # Initialise random mode\n",
    "    mode = np.random.uniform(size=N)\n",
    "    \n",
    "    # Use Newton-Raphson method to iterative update the mode\n",
    "    costs = []\n",
    "    for epoch in range(epochs):\n",
    "        # Update the mode\n",
    "        sigma_N = sigmoid(mode)\n",
    "        W_N = np.diag(sigma_N * (1 - sigma_N))\n",
    "        mode_new = C_N @ np.linalg.solve(np.eye(N) + W_N @ C_N, t - sigma_N + W_N @ mode)\n",
    "        \n",
    "        # Update the mode\n",
    "        mode = mode + learning_rate * (mode_new - mode)\n",
    "\n",
    "        # Calculate the cost\n",
    "        cost = (-0.5 * np.dot(mode, np.linalg.solve(C_N, mode)) - 0.5 * np.sum(np.log(eigenvalues)) \n",
    "                + np.dot(t, mode)) - np.sum(np.log(1 + np.exp(mode)))\n",
    "        \n",
    "        # Append the cost and display\n",
    "        print(f\"EPOCHS: {epoch} - Cost: {cost}\")\n",
    "        costs.append(cost)\n",
    "        \n",
    "    return mode, costs\n",
    "    \n",
    "    \n",
    "def find_posterior_covariance(X, t, mode, nu, gamma):\n",
    "    \"\"\"\n",
    "    Find the covariance matrix of the distribution p(a_N | t_N)\n",
    "    :param X: train features\n",
    "    :param t: train labels\n",
    "    :param mode: mode of the distribution\n",
    "    :param nu: added term to C, the covariance matrix\n",
    "    :param gamma: the parameter of RBF kernel function\n",
    "    :return: the covariance matrix of the distribution\n",
    "    \"\"\"\n",
    "    # Get the dimension\n",
    "    N = X.shape[0]\n",
    "    \n",
    "    # Calculate the covariance matrix C_N\n",
    "    C_N = rbf_kernel(X, gamma=gamma) + nu * np.eye(N)\n",
    "    \n",
    "    # Calculate W_N\n",
    "    sigma_N = sigmoid(mode)\n",
    "    W_N = np.diag(sigma_N * (1 - sigma_N))\n",
    "    \n",
    "    # Calculate the Hessian\n",
    "    H = W_N + np.linalg.inv(C_N)\n",
    "    return np.linalg.inv(H)\n",
    "\n",
    "\n",
    "def prediction_function(X_test, X_train, t, mode, nu, gamma):\n",
    "    \"\"\"\n",
    "    Predict p(t_{N+1} | t_N)\n",
    "    :param X_test: the test points\n",
    "    :param X_train: the train features\n",
    "    :param t: the train labels\n",
    "    :param mode: the mode of p(a_{N+1} | t_N)\n",
    "    :param gamma: the parameter of RBF kernel function\n",
    "    :param nu: additive term to the covariance matrix C_N\n",
    "    :return: the prediction\n",
    "    \"\"\"\n",
    "    # Get the dimension\n",
    "    N = X_train.shape[0]\n",
    "    \n",
    "    # Calculate the covariance matrix C_N\n",
    "    C_N = rbf_kernel(X_train, gamma=gamma) + nu * np.eye(N)\n",
    "    \n",
    "    # Calculate the matrix W_N\n",
    "    sigma_N = sigmoid(mode)\n",
    "    W_N = np.diag(sigma_N * (1 - sigma_N))\n",
    "    W_N_inv = np.linalg.inv(W_N)\n",
    "    \n",
    "    # Calculate the prediction\n",
    "    predictions = []\n",
    "    for x_test in X_test:\n",
    "        # Calculate k\n",
    "        k = rbf_kernel(X, x_test.reshape(1, -1), gamma=gamma).reshape(-1)\n",
    "        \n",
    "        # Calculate the mean and variance\n",
    "        mean = np.dot(k, t - sigma_N)\n",
    "        var = (rbf_kernel(x_test.reshape(1, -1), x_test.reshape(1, -1))[0][0] \n",
    "               - np.dot(k, np.linalg.solve(W_N_inv + C_N, k)))\n",
    "        \n",
    "        # Calculate the prediction\n",
    "        prediction = sigmoid(mean / np.sqrt(1 + np.pi * var / 8))\n",
    "        predictions.append(prediction)\n",
    "        \n",
    "    return np.array(predictions)"
   ],
   "metadata": {
    "collapsed": false,
    "ExecuteTime": {
     "end_time": "2024-01-09T10:05:44.787449Z",
     "start_time": "2024-01-09T10:05:44.785530Z"
    }
   },
   "id": "53ed20610c678e67"
  },
  {
   "cell_type": "code",
   "execution_count": 52,
   "outputs": [
    {
     "name": "stdout",
     "output_type": "stream",
     "text": [
      "EPOCHS: 0 - Cost: -83.49083860943225\n",
      "EPOCHS: 1 - Cost: -44.30061650021891\n",
      "EPOCHS: 2 - Cost: -12.612029199462128\n",
      "EPOCHS: 3 - Cost: 13.08263831475324\n",
      "EPOCHS: 4 - Cost: 33.95949022836464\n",
      "EPOCHS: 5 - Cost: 50.94783670023358\n",
      "EPOCHS: 6 - Cost: 64.78821307505783\n",
      "EPOCHS: 7 - Cost: 76.07422099775125\n",
      "EPOCHS: 8 - Cost: 85.28375215953207\n",
      "EPOCHS: 9 - Cost: 92.8028262337326\n",
      "EPOCHS: 10 - Cost: 98.94407765979756\n",
      "EPOCHS: 11 - Cost: 103.96125275111129\n",
      "EPOCHS: 12 - Cost: 108.06067087970716\n",
      "EPOCHS: 13 - Cost: 111.4103412083391\n",
      "EPOCHS: 14 - Cost: 114.14724931037154\n",
      "EPOCHS: 15 - Cost: 116.38320364985829\n",
      "EPOCHS: 16 - Cost: 118.20954183615167\n",
      "EPOCHS: 17 - Cost: 119.70092975671722\n",
      "EPOCHS: 18 - Cost: 120.9184361918212\n",
      "EPOCHS: 19 - Cost: 121.91202679921498\n",
      "EPOCHS: 20 - Cost: 122.72259136443144\n",
      "EPOCHS: 21 - Cost: 123.38359480281987\n",
      "EPOCHS: 22 - Cost: 123.9224240315787\n",
      "EPOCHS: 23 - Cost: 124.36148836395068\n",
      "EPOCHS: 24 - Cost: 124.71911965203981\n",
      "EPOCHS: 25 - Cost: 125.01030935782074\n",
      "EPOCHS: 26 - Cost: 125.24731255029151\n",
      "EPOCHS: 27 - Cost: 125.44014310945022\n",
      "EPOCHS: 28 - Cost: 125.59697985127617\n",
      "EPOCHS: 29 - Cost: 125.7244996270259\n",
      "EPOCHS: 30 - Cost: 125.82815050357662\n",
      "EPOCHS: 31 - Cost: 125.91237575015558\n",
      "EPOCHS: 32 - Cost: 125.98079742443988\n",
      "EPOCHS: 33 - Cost: 126.03636677717378\n",
      "EPOCHS: 34 - Cost: 126.0814874083655\n",
      "EPOCHS: 35 - Cost: 126.11811605426072\n",
      "EPOCHS: 36 - Cost: 126.1478450188013\n",
      "EPOCHS: 37 - Cost: 126.17196955132945\n",
      "EPOCHS: 38 - Cost: 126.19154288599536\n",
      "EPOCHS: 39 - Cost: 126.20742117519433\n",
      "EPOCHS: 40 - Cost: 126.22030015115277\n",
      "EPOCHS: 41 - Cost: 126.23074502160325\n",
      "EPOCHS: 42 - Cost: 126.23921483512713\n",
      "EPOCHS: 43 - Cost: 126.24608232913724\n",
      "EPOCHS: 44 - Cost: 126.25165009031736\n",
      "EPOCHS: 45 - Cost: 126.25616370676352\n",
      "EPOCHS: 46 - Cost: 126.2598224673907\n",
      "EPOCHS: 47 - Cost: 126.26278806267057\n",
      "EPOCHS: 48 - Cost: 126.26519165754584\n",
      "EPOCHS: 49 - Cost: 126.26713963919327\n",
      "EPOCHS: 50 - Cost: 126.26871828650867\n",
      "EPOCHS: 51 - Cost: 126.269997562556\n",
      "EPOCHS: 52 - Cost: 126.271034193934\n",
      "EPOCHS: 53 - Cost: 126.27187417056568\n",
      "EPOCHS: 54 - Cost: 126.27255477456926\n",
      "EPOCHS: 55 - Cost: 126.27310622661236\n",
      "EPOCHS: 56 - Cost: 126.27355302163416\n",
      "EPOCHS: 57 - Cost: 126.27391501237797\n",
      "EPOCHS: 58 - Cost: 126.27420828822038\n",
      "EPOCHS: 59 - Cost: 126.27444588788025\n",
      "EPOCHS: 60 - Cost: 126.27463837733916\n",
      "EPOCHS: 61 - Cost: 126.27479431841604\n",
      "EPOCHS: 62 - Cost: 126.27492064864767\n",
      "EPOCHS: 63 - Cost: 126.27502298923744\n",
      "EPOCHS: 64 - Cost: 126.27510589467306\n",
      "EPOCHS: 65 - Cost: 126.27517305504786\n",
      "EPOCHS: 66 - Cost: 126.27522746003676\n",
      "EPOCHS: 67 - Cost: 126.27527153178681\n",
      "EPOCHS: 68 - Cost: 126.27530723260936\n",
      "EPOCHS: 69 - Cost: 126.27533615224849\n",
      "EPOCHS: 70 - Cost: 126.27535957859479\n",
      "EPOCHS: 71 - Cost: 126.27537855498443\n",
      "EPOCHS: 72 - Cost: 126.2753939266251\n",
      "EPOCHS: 73 - Cost: 126.27540637821185\n",
      "EPOCHS: 74 - Cost: 126.27541646440395\n",
      "EPOCHS: 75 - Cost: 126.27542463451614\n",
      "EPOCHS: 76 - Cost: 126.27543125252319\n",
      "EPOCHS: 77 - Cost: 126.27543661326668\n",
      "EPOCHS: 78 - Cost: 126.27544095558385\n",
      "EPOCHS: 79 - Cost: 126.27544447294459\n",
      "EPOCHS: 80 - Cost: 126.2754473220679\n",
      "EPOCHS: 81 - Cost: 126.2754496299023\n",
      "EPOCHS: 82 - Cost: 126.27545149928072\n",
      "EPOCHS: 83 - Cost: 126.27545301350087\n",
      "EPOCHS: 84 - Cost: 126.27545424003647\n",
      "EPOCHS: 85 - Cost: 126.27545523354291\n",
      "EPOCHS: 86 - Cost: 126.27545603829232\n",
      "EPOCHS: 87 - Cost: 126.27545669014597\n",
      "EPOCHS: 88 - Cost: 126.27545721815235\n",
      "EPOCHS: 89 - Cost: 126.27545764584103\n",
      "EPOCHS: 90 - Cost: 126.27545799227153\n",
      "EPOCHS: 91 - Cost: 126.2754582728821\n",
      "EPOCHS: 92 - Cost: 126.275458500178\n",
      "EPOCHS: 93 - Cost: 126.27545868428871\n",
      "EPOCHS: 94 - Cost: 126.2754588334191\n",
      "EPOCHS: 95 - Cost: 126.27545895421528\n",
      "EPOCHS: 96 - Cost: 126.27545905206055\n",
      "EPOCHS: 97 - Cost: 126.27545913131549\n",
      "EPOCHS: 98 - Cost: 126.27545919551224\n",
      "EPOCHS: 99 - Cost: 126.27545924751172\n"
     ]
    }
   ],
   "source": [
    "# Find the mode\n",
    "mode, costs = find_posterior_mean(X, t, nu=0.01, gamma=0.5, learning_rate=0.1, epochs=100)\n",
    "covariance = find_posterior_covariance(X, t, mode=mode, nu=0.01, gamma=0.5)\n",
    "\n",
    "# Calculate the prediction\n",
    "predictions = prediction_function(X_test=X, X_train=X, t=t, mode=mode, nu=0.01, gamma=0.5)"
   ],
   "metadata": {
    "collapsed": false,
    "ExecuteTime": {
     "end_time": "2024-01-09T10:05:45.587226Z",
     "start_time": "2024-01-09T10:05:45.464854Z"
    }
   },
   "id": "dd15109408a1ab56"
  },
  {
   "cell_type": "code",
   "execution_count": 55,
   "outputs": [
    {
     "name": "stdout",
     "output_type": "stream",
     "text": [
      "Accuracy of Gaussian Process for classification: 1.0\n"
     ]
    }
   ],
   "source": [
    "# Calculate the accuracy of Gaussian Processes for classification\n",
    "accuracy = np.sum((predictions >= 0.5) == t) / predictions.shape[0]\n",
    "print(f\"Accuracy of Gaussian Process for classification: {accuracy}\")"
   ],
   "metadata": {
    "collapsed": false,
    "ExecuteTime": {
     "end_time": "2024-01-09T10:08:40.783158Z",
     "start_time": "2024-01-09T10:08:40.770313Z"
    }
   },
   "id": "14d39c3bc947c8d7"
  }
 ],
 "metadata": {
  "kernelspec": {
   "display_name": "Python 3",
   "language": "python",
   "name": "python3"
  },
  "language_info": {
   "codemirror_mode": {
    "name": "ipython",
    "version": 2
   },
   "file_extension": ".py",
   "mimetype": "text/x-python",
   "name": "python",
   "nbconvert_exporter": "python",
   "pygments_lexer": "ipython2",
   "version": "2.7.6"
  }
 },
 "nbformat": 4,
 "nbformat_minor": 5
}
